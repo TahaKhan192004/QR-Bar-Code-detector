{
  "cells": [
    {
      "cell_type": "code",
      "execution_count": null,
      "metadata": {
        "colab": {
          "base_uri": "https://localhost:8080/"
        },
        "id": "gu5Myh_mxXK0",
        "outputId": "5f09c253-4815-473a-c92c-7a3a476ca582"
      },
      "outputs": [],
      "source": [
        "# 1) Installing  dependencies for model training\n",
        "!pip install ultralytics supervision roboflow"
      ]
    },
    {
      "cell_type": "code",
      "execution_count": null,
      "metadata": {
        "colab": {
          "base_uri": "https://localhost:8080/"
        },
        "id": "bOblq4zJy_K5",
        "outputId": "652af2f1-8c23-4157-8cb0-000b61004491"
      },
      "outputs": [],
      "source": [
        "#loading the dataset\n",
        "\n",
        "from roboflow import Roboflow\n",
        "rf = Roboflow(api_key=\"Cuz1HOeij6Ko2JrZf650\")\n",
        "project = rf.workspace(\"cvprac\").project(\"qrcodereader-hydhr\")\n",
        "version = project.version(1)\n",
        "dataset = version.download(\"yolov8\")"
      ]
    },
    {
      "cell_type": "code",
      "execution_count": null,
      "metadata": {
        "id": "VKjuCUWazMBd"
      },
      "outputs": [],
      "source": [
        "#training loop\n",
        "\n",
        "from ultralytics import YOLO\n",
        "\n",
        "# Load a pretrained YOLOv8 model (small version is faster, you can also try 'yolov8m' or 'yolov8l')\n",
        "model = YOLO(\"yolov8s.pt\")\n",
        "\n",
        "# Train\n",
        "model.train(\n",
        "    data=\"/content/qrcodereader-1/data.yaml\",  # path to dataset config\n",
        "    epochs=10,          # number of training epochs (increase if needed)\n",
        "    imgsz=640,          # input image size\n",
        "    batch=16,           # batch size (adjust if GPU RAM is low)\n",
        "    name=\"barcode_detector\"\n",
        ")\n"
      ]
    },
    {
      "cell_type": "code",
      "execution_count": null,
      "metadata": {
        "colab": {
          "base_uri": "https://localhost:8080/"
        },
        "id": "8Po3IIGR44Ke",
        "outputId": "356bf71a-dd20-4912-85ab-f09e1ae4a844"
      },
      "outputs": [],
      "source": [
        "#running validation\n",
        "model.val()\n"
      ]
    },
    {
      "cell_type": "code",
      "execution_count": null,
      "metadata": {
        "colab": {
          "base_uri": "https://localhost:8080/"
        },
        "id": "Jqi4EF4L5GcD",
        "outputId": "3af41310-25d3-48d1-c6da-2692d0d473c2"
      },
      "outputs": [],
      "source": [
        "#testing\n",
        "\n",
        "results = model.predict(\"/content/qrcodereader-1/test/images\", save=True, conf=0.5)\n"
      ]
    },
    {
      "cell_type": "code",
      "execution_count": null,
      "metadata": {
        "id": "TZK5GNo45Woa"
      },
      "outputs": [],
      "source": [
        "#script for loading the pre trained model weights\n",
        "\n",
        "# Load the trained model\n",
        "trained_model = YOLO(\"runs/detect/barcode_detector/weights/best.pt\")\n"
      ]
    },
    {
      "cell_type": "code",
      "execution_count": null,
      "metadata": {
        "colab": {
          "base_uri": "https://localhost:8080/",
          "height": 74
        },
        "id": "eZG5EzMN6Plp",
        "outputId": "d513c0fb-e010-4df5-e52e-a9ac82462952"
      },
      "outputs": [],
      "source": [
        "from google.colab import files\n",
        "uploaded = files.upload()  # choose your image\n"
      ]
    },
    {
      "cell_type": "code",
      "execution_count": null,
      "metadata": {
        "colab": {
          "base_uri": "https://localhost:8080/"
        },
        "id": "VNlIo2O36Ufm",
        "outputId": "3f6bbb7c-1427-4597-fc4c-e4aa71aeff53"
      },
      "outputs": [],
      "source": [
        "results = model.predict(source=list(uploaded.keys())[0], save=True, conf=0.5)\n",
        "\n",
        "\n",
        "\n",
        "\n"
      ]
    },
    {
      "cell_type": "code",
      "execution_count": null,
      "metadata": {
        "id": "qwsYWoTuDvoi"
      },
      "outputs": [],
      "source": [
        "#croping the bounded boxed parts\n",
        "\n",
        "import cv2\n",
        "\n",
        "# Load original image\n",
        "image = cv2.imread(\"/content/runs/detect/barcode_detector4/img_qr.jpg\")\n",
        "\n",
        "# Loop over results\n",
        "for r in results:\n",
        "    boxes = r.boxes.xyxy.cpu().numpy()  # [x1, y1, x2, y2] format\n",
        "    class_ids = r.boxes.cls.cpu().numpy().astype(int)\n",
        "\n",
        "    for i, box in enumerate(boxes):\n",
        "        x1, y1, x2, y2 = map(int, box)\n",
        "\n",
        "        # Crop the detected region\n",
        "        cropped = image[y1:y2, x1:x2]\n",
        "\n",
        "        # Save each cropped image\n",
        "        cv2.imwrite(f\"crop_{i}_class{class_ids[i]}.jpg\", cropped)\n"
      ]
    },
    {
      "cell_type": "code",
      "execution_count": null,
      "metadata": {
        "colab": {
          "base_uri": "https://localhost:8080/"
        },
        "id": "lwJ_orlUEwAj",
        "outputId": "5d3bb858-a8e7-4cbf-c66f-d16f67bb820d"
      },
      "outputs": [],
      "source": [
        "!pip install pyzbar pillow\n",
        "!apt-get install -y libzbar0\n",
        "\n"
      ]
    },
    {
      "cell_type": "code",
      "execution_count": null,
      "metadata": {
        "id": "TmLHqgsfGJm9"
      },
      "outputs": [],
      "source": [
        "from pyzbar.pyzbar import decode\n",
        "from PIL import Image\n",
        "\n",
        "\n",
        "\n"
      ]
    },
    {
      "cell_type": "code",
      "execution_count": null,
      "metadata": {
        "id": "SPildsdoHhRW"
      },
      "outputs": [],
      "source": [
        "#scanning the content of qrcode/barcode\n",
        "\n",
        "decoded_objects = decode(Image.fromarray(cropped))\n",
        "if decoded_objects:\n",
        "    for obj in decoded_objects:\n",
        "        print(f\"Detected {obj.type}: {obj.data.decode('utf-8')}\")\n",
        "else:\n",
        "    print(\"No QR/Barcode detected.\")"
      ]
    },
    {
      "cell_type": "code",
      "execution_count": null,
      "metadata": {
        "id": "82vzGHBiBFnQ"
      },
      "outputs": [],
      "source": []
    }
  ],
  "metadata": {
    "accelerator": "GPU",
    "colab": {
      "gpuType": "T4",
      "provenance": []
    },
    "kernelspec": {
      "display_name": "Python 3",
      "name": "python3"
    },
    "language_info": {
      "name": "python"
    }
  },
  "nbformat": 4,
  "nbformat_minor": 0
}
